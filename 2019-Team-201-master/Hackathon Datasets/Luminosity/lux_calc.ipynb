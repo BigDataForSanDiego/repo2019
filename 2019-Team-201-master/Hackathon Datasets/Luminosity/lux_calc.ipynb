{
 "cells": [
  {
   "cell_type": "markdown",
   "metadata": {},
   "source": [
    "We are assuming that bulbs of wattage less than or equal to 90 are used for local/collector roads and those that are greater than 90 are used for major/local roads, given the streetlight city regulations, we can calculate the difference between what is considered a high, medium, and low level of illuminance\n"
   ]
  },
  {
   "cell_type": "code",
   "execution_count": null,
   "metadata": {},
   "outputs": [],
   "source": [
    "import re\n",
    "#Use the power of the light to guess how much of an area they have to light up\n",
    "def getarea(wattage):\n",
    "    if float(wattage)<=90.0:\n",
    "        return 2120.0\n",
    "    return 2905.0\n",
    "\n",
    "flux = 10.76391 # a constant used to calculate lux\n",
    "efficacy = 55.6 # the efficacy level of induction lights"
   ]
  },
  {
   "cell_type": "markdown",
   "metadata": {},
   "source": [
    "\n",
    "\n",
    "\n",
    "\n",
    "Here we open the file to parse out the different columns, and create the columns for our analysis\n",
    "\"lux_val\": Calculated luminosity\n",
    "\"med_wat\": Estimated medium luminosity, -6 Lux away from lux_val\n",
    "\"low_wat\": Estimated low luminosity, -12 Lux away from lux_val\n",
    "\"full_cost\": Price being paid now, $0.15 per kWh\n",
    "\"med_cost\": Price adjusted for med_wat\n",
    "\"low_cost\": Price adjusted for low_wat"
   ]
  },
  {
   "cell_type": "code",
   "execution_count": null,
   "metadata": {},
   "outputs": [],
   "source": [
    " fi = open(\"StreetLight_LocationsClean.csv\",'r')\n",
    "outfi = open(\"streetlight_locations_dataLux.csv\",'w')\n",
    "\n",
    "line = fi.readline()\n",
    "line=re.sub('\\n',',',line)\n",
    "outfi.write(line+\"\\\"lux_val\\\",\"+\"\\\"med_wat\\\",\"+\"\\\"low_wat\\\",\"+\"\\\"full_cost\\\",\"+\"\\\"med_cost\\\",\"+\"\\\"low_cost\\\"\\n\")\n",
    "line = fi.readline()"
   ]
  },
  {
   "cell_type": "markdown",
   "metadata": {},
   "source": [
    "\n",
    "\n",
    "Given the formula...\n",
    "    lx = 10.76391 × W × (lm/W) / ft2\n",
    "    where lx is the illuminance, W is the wattage, lm/W is the luminous efficacy, and ft2 is the area in square feet\n",
    "\n",
    "...we can calculate what the current luminosity is at right now, and according to weather and traffic conditions, we can adjust the luminosity and find the new wattage. This is how we are calculating cost\n",
    " "
   ]
  },
  {
   "cell_type": "code",
   "execution_count": null,
   "metadata": {},
   "outputs": [],
   "source": [
    "while line:\n",
    "    line=re.sub('\\n','',line)\n",
    "    parts = line.split(\"\\\"\")\n",
    "    if parts[3]==\"IND\" and parts[5]!=0.0 and parts[5]!=\"\":\n",
    "        #if the light type is induction then find lux and possible dimm values\n",
    "        lux=(float(parts[5])*efficacy*flux)/(getarea(parts[5]))\n",
    "        med=lux-6\n",
    "        med=getarea(parts[5])*med/(efficacy*flux)\n",
    "        low=lux-12\n",
    "        low=getarea(parts[5])*low/(efficacy*flux)\n",
    "    else:\n",
    "        #if the light is not induction then we can't fint those values\n",
    "        lux=0\n",
    "        med=0\n",
    "        low=0\n",
    "        "
   ]
  },
  {
   "cell_type": "code",
   "execution_count": null,
   "metadata": {},
   "outputs": [],
   "source": [
    "        \n",
    "    #output new data\n",
    "    outfi.write(\"\\\"\"+parts[1]+\"\\\",\")\n",
    "    outfi.write(\"\\\"\"+parts[3]+\"\\\",\")\n",
    "    outfi.write(\"\\\"\"+parts[5]+\"\\\",\")\n",
    "    outfi.write(\"\\\"\"+parts[7]+\"\\\",\")\n",
    "    outfi.write(\"\\\"\"+parts[9]+\"\\\",\")\n",
    "    outfi.write(\"\\\"\"+parts[11]+\"\\\",\")\n",
    "    outfi.write(\"\\\"\"+str(lux)+\"\\\",\")\n",
    "    outfi.write(\"\\\"\"+str(med)+\"\\\",\")\n",
    "    outfi.write(\"\\\"\"+str(low)+\"\\\",\")\n",
    "    if parts[5]=='':\n",
    "        outfi.write(\"\\\"0\\\",\")\n",
    "    else:\n",
    "                outfi.write(\"\\\"\"+str((float(parts[5])/1000.0)*11.0*0.15)+\"\\\",\")\n",
    "\n",
    "    #11.0 for 11 hours of operation, 0.15 because California charges $0.15 per kWh\n",
    "    outfi.write(\"\\\"\"+str((med/1000.0)*11.0*0.15)+\"\\\",\")\n",
    "    outfi.write(\"\\\"\"+str((low/1000.0)*11.0*0.15)+\"\\\"\\n\")\n",
    "    line=fi.readline()\n",
    "fi.close()\n",
    "outfi.close()"
   ]
  }
 ],
 "metadata": {
  "kernelspec": {
   "display_name": "Python 3",
   "language": "python",
   "name": "python3"
  },
  "language_info": {
   "codemirror_mode": {
    "name": "ipython",
    "version": 3
   },
   "file_extension": ".py",
   "mimetype": "text/x-python",
   "name": "python",
   "nbconvert_exporter": "python",
   "pygments_lexer": "ipython3",
   "version": "3.7.1"
  }
 },
 "nbformat": 4,
 "nbformat_minor": 2
}
