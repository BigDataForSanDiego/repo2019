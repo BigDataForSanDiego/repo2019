{
 "cells": [
  {
   "cell_type": "markdown",
   "metadata": {},
   "source": [
    "# FCC offers an [API](https://geo.fcc.gov/api/census/#!/block/get_block_find) to convert Latitude and Longitude coordinates into 15 digit block FIPS code"
   ]
  },
  {
   "cell_type": "code",
   "execution_count": 1,
   "metadata": {},
   "outputs": [
    {
     "name": "stdout",
     "output_type": "stream",
     "text": [
      "{'Block': {'FIPS': '060730028012004', 'bbox': [-117.076941, 32.773167, -117.06847, 32.778146]}, 'County': {'FIPS': '06073', 'name': 'San Diego'}, 'State': {'FIPS': '06', 'code': 'CA', 'name': 'California'}, 'status': 'OK', 'executionTime': '0'}\n",
      "060730028012004\n"
     ]
    }
   ],
   "source": [
    "import json\n",
    "import requests\n",
    "\n",
    "#Sample latitude and longitudes\n",
    "lat = 32.7751\n",
    "long = -117.0760\n",
    "\n",
    "url = f'https://geo.fcc.gov/api/census/block/find?latitude=%s&longitude=%s&showall=true&format=json'%(lat,long)\n",
    "response = requests.get(url)\n",
    "\n",
    "#Parse json in response\n",
    "data = response.json()\n",
    "print(data)\n",
    "\n",
    "#Print FIPS code\n",
    "print(data['Block']['FIPS'])"
   ]
  },
  {
   "cell_type": "code",
   "execution_count": 2,
   "metadata": {},
   "outputs": [
    {
     "data": {
      "text/plain": [
       "['32.8943', '-117.0760']"
      ]
     },
     "execution_count": 2,
     "metadata": {},
     "output_type": "execute_result"
    }
   ],
   "source": [
    "import os\n",
    "\n",
    "# get current location\n",
    "#!curl ipinfo.io\n",
    "result = os.popen(\"curl ipinfo.io/loc \").read()\n",
    "[latitude, longitude]= result.rstrip().split(',')\n",
    "[latitude, longitude]"
   ]
  },
  {
   "cell_type": "markdown",
   "metadata": {},
   "source": [
    "# [Folium](https://python-visualization.github.io/folium/index.html) is a Python wrapper for leaflet.js\n",
    "\n",
    "The [Smart Growt Equity Calculator](https://smartgrowthcalculator.netlify.com/) is built using leaflet.js "
   ]
  },
  {
   "cell_type": "code",
   "execution_count": 3,
   "metadata": {},
   "outputs": [
    {
     "data": {
      "text/plain": [
       "<folium.map.Marker at 0x12db966c3c8>"
      ]
     },
     "execution_count": 3,
     "metadata": {},
     "output_type": "execute_result"
    }
   ],
   "source": [
    "import folium\n",
    "from folium.plugins import Draw\n",
    "from folium import FeatureGroup, LayerControl\n",
    "\n",
    "base_map = folium.Map([32.7751,-117.0760], control_scale=True, zoom_start=12)\n",
    "\n",
    "# marker example\n",
    "folium.Marker([32.7751, -117.0760], popup='<i>Peterson Gym</i>', tooltip=None).add_to(base_map)\n",
    "\n"
   ]
  },
  {
   "cell_type": "markdown",
   "metadata": {},
   "source": [
    "# Letting users draw on the map and retrieving the geojson data from it\n",
    "https://github.com/python-visualization/folium/blob/master/examples/plugin-Draw.ipynb"
   ]
  },
  {
   "cell_type": "code",
   "execution_count": 4,
   "metadata": {},
   "outputs": [
    {
     "data": {
      "text/html": [
       "<div style=\"width:100%;\"><div style=\"position:relative;width:100%;height:0;padding-bottom:60%;\"><iframe src=\"data:text/html;charset=utf-8;base64,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\" style=\"position:absolute;width:100%;height:100%;left:0;top:0;border:none !important;\" allowfullscreen webkitallowfullscreen mozallowfullscreen></iframe></div></div>"
      ],
      "text/plain": [
       "<folium.folium.Map at 0x12db966c400>"
      ]
     },
     "execution_count": 4,
     "metadata": {},
     "output_type": "execute_result"
    }
   ],
   "source": [
    "# export button will download a geojson file with what the user drew on the map\n",
    "# clicking on the custom user drawn shape will also display the geojson data in an alert\n",
    "Draw(export=True).add_to(base_map)\n",
    "\n",
    "# user_draw_layer = FeatureGroup(name=\"user drawing\")\n",
    "# user_draw_layer.add_to(base_map)\n",
    "# LayerControl().add_to(base_map)\n",
    "\n",
    "base_map"
   ]
  }
 ],
 "metadata": {
  "kernelspec": {
   "display_name": "Python 3",
   "language": "python",
   "name": "python3"
  },
  "language_info": {
   "codemirror_mode": {
    "name": "ipython",
    "version": 3
   },
   "file_extension": ".py",
   "mimetype": "text/x-python",
   "name": "python",
   "nbconvert_exporter": "python",
   "pygments_lexer": "ipython3",
   "version": "3.6.8"
  }
 },
 "nbformat": 4,
 "nbformat_minor": 2
}
